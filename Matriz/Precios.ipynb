{
  "nbformat": 4,
  "nbformat_minor": 0,
  "metadata": {
    "colab": {
      "name": "Untitled4.ipynb",
      "provenance": [],
      "authorship_tag": "ABX9TyNg7EkidxEE9iPGQRpSgrDm",
      "include_colab_link": true
    },
    "kernelspec": {
      "name": "python3",
      "display_name": "Python 3"
    },
    "language_info": {
      "name": "python"
    }
  },
  "cells": [
    {
      "cell_type": "markdown",
      "metadata": {
        "id": "view-in-github",
        "colab_type": "text"
      },
      "source": [
        "<a href=\"https://colab.research.google.com/github/JuanchoMAtes/Proyecto-Final-PGMN/blob/main/Matriz/Precios.ipynb\" target=\"_parent\"><img src=\"https://colab.research.google.com/assets/colab-badge.svg\" alt=\"Open In Colab\"/></a>"
      ]
    },
    {
      "cell_type": "code",
      "source": [
        "import numpy as np"
      ],
      "metadata": {
        "id": "8CVX1yMovgYw"
      },
      "execution_count": 13,
      "outputs": []
    },
    {
      "cell_type": "code",
      "source": [
        "matriz = np.array([[2500,5000],[2000,3000]])"
      ],
      "metadata": {
        "id": "2wMjuOixvQJJ"
      },
      "execution_count": 14,
      "outputs": []
    },
    {
      "cell_type": "code",
      "source": [
        "Diccionariop={\"Papas\":0,\"Jugo\":1}\n",
        "Local={'CyT':0, 'FEM':1}"
      ],
      "metadata": {
        "id": "75mCRpF6ytFg"
      },
      "execution_count": 19,
      "outputs": []
    },
    {
      "cell_type": "code",
      "source": [
        "print(\"Las opciones de comida son:\")\n",
        "for key in Diccionariop:\n",
        "    print(key)\n",
        "\n",
        "print(\"Las opciones puestos de comida son :\")\n",
        "for key in Local:\n",
        "    print(key)"
      ],
      "metadata": {
        "colab": {
          "base_uri": "https://localhost:8080/"
        },
        "id": "15Bi-9MfzQ73",
        "outputId": "4efc77aa-d7b7-43e1-b534-05a21df3d99b"
      },
      "execution_count": 15,
      "outputs": [
        {
          "output_type": "stream",
          "name": "stdout",
          "text": [
            "Las opciones de comida son:\n",
            "Papas\n",
            "Jugo\n",
            "Las opciones puestos de comida son :\n",
            "CyT\n",
            "FEM\n"
          ]
        }
      ]
    },
    {
      "cell_type": "code",
      "source": [
        "x=input(\"Papas o Jugo\")\n",
        "if x=='Papas':\n",
        "  fila=int(Diccionariop['Papas'])\n",
        "elif x=='Jugo':\n",
        "  fila=int(Diccionariop['Jugo'])\n",
        "print(fila)\n",
        "\n",
        "y=input(\"CyT o FEM\")\n",
        "if x=='CyT':\n",
        "  columna=int(Local['CyT'])\n",
        "elif x=='FEM':\n",
        "  columna=int(Local['FEM'])\n",
        "print(columna)"
      ],
      "metadata": {
        "colab": {
          "base_uri": "https://localhost:8080/"
        },
        "id": "W4a2X9Cp3AoK",
        "outputId": "47209fa0-4db4-422b-aa81-4e8f53c10c9a"
      },
      "execution_count": 20,
      "outputs": [
        {
          "output_type": "stream",
          "name": "stdout",
          "text": [
            "Papas o JugoJugo\n",
            "1\n",
            "CyT o FEMFEM\n",
            "1\n"
          ]
        }
      ]
    },
    {
      "cell_type": "code",
      "source": [
        "x=input(\"Escoge una comida: \")\n",
        "for key in Local:\n",
        "  if x== str(key):\n",
        "    fila=int(Diccionariop[key])\n",
        "print(fila)\n",
        "\n",
        "y=input(\"Escoge una: \")\n",
        "for key in Local:\n",
        "  if y== str(key):\n",
        "    columna=int(Local[key])\n",
        "print(columna)\n",
        "\n"
      ],
      "metadata": {
        "colab": {
          "base_uri": "https://localhost:8080/"
        },
        "id": "uSEdWAR8rXGg",
        "outputId": "05d00bb1-09d0-4c68-973b-91f470184645"
      },
      "execution_count": 27,
      "outputs": [
        {
          "output_type": "stream",
          "name": "stdout",
          "text": [
            "Escoge una comida: Jugo\n",
            "1\n",
            "Escoge una: FEM\n",
            "1\n"
          ]
        }
      ]
    },
    {
      "cell_type": "code",
      "source": [
        "print(matriz[fila][columna])"
      ],
      "metadata": {
        "colab": {
          "base_uri": "https://localhost:8080/"
        },
        "id": "FYoP1pekcURF",
        "outputId": "c7fb5b48-ba0a-403e-bffd-7d818e9a6a79"
      },
      "execution_count": 28,
      "outputs": [
        {
          "output_type": "stream",
          "name": "stdout",
          "text": [
            "3000\n"
          ]
        }
      ]
    },
    {
      "cell_type": "code",
      "source": [
        "for k in range (0,fila+1):\n",
        "  for i in range(0,columna+1):\n",
        "    print(\"Fila: \",k,\"Columna: \",i, \"=\" ,matriz[i][k])"
      ],
      "metadata": {
        "id": "0gkR2542uxtg"
      },
      "execution_count": null,
      "outputs": []
    },
    {
      "cell_type": "code",
      "source": [
        "x=input(\"Escoge una: \")\n",
        "for key in Diccionariop:\n",
        "  n= key\n",
        "  if x==n:\n",
        "    fila=int(Diccionariop[n])\n",
        "    break\n",
        "print(fila)"
      ],
      "metadata": {
        "colab": {
          "base_uri": "https://localhost:8080/",
          "height": 253
        },
        "id": "gvhhyKY_2MmV",
        "outputId": "ef666e4d-b3e2-400a-8427-046d81865c1e"
      },
      "execution_count": 1,
      "outputs": [
        {
          "name": "stdout",
          "output_type": "stream",
          "text": [
            "Escoge una: Papas\n"
          ]
        },
        {
          "output_type": "error",
          "ename": "NameError",
          "evalue": "ignored",
          "traceback": [
            "\u001b[0;31m---------------------------------------------------------------------------\u001b[0m",
            "\u001b[0;31mNameError\u001b[0m                                 Traceback (most recent call last)",
            "\u001b[0;32m<ipython-input-1-1ac8aefe42c3>\u001b[0m in \u001b[0;36m<module>\u001b[0;34m()\u001b[0m\n\u001b[1;32m      1\u001b[0m \u001b[0mx\u001b[0m\u001b[0;34m=\u001b[0m\u001b[0minput\u001b[0m\u001b[0;34m(\u001b[0m\u001b[0;34m\"Escoge una: \"\u001b[0m\u001b[0;34m)\u001b[0m\u001b[0;34m\u001b[0m\u001b[0;34m\u001b[0m\u001b[0m\n\u001b[0;32m----> 2\u001b[0;31m \u001b[0;32mfor\u001b[0m \u001b[0mkey\u001b[0m \u001b[0;32min\u001b[0m \u001b[0mDiccionariop\u001b[0m\u001b[0;34m:\u001b[0m\u001b[0;34m\u001b[0m\u001b[0;34m\u001b[0m\u001b[0m\n\u001b[0m\u001b[1;32m      3\u001b[0m   \u001b[0mn\u001b[0m\u001b[0;34m=\u001b[0m \u001b[0mkey\u001b[0m\u001b[0;34m\u001b[0m\u001b[0;34m\u001b[0m\u001b[0m\n\u001b[1;32m      4\u001b[0m   \u001b[0;32mif\u001b[0m \u001b[0mx\u001b[0m\u001b[0;34m==\u001b[0m\u001b[0mn\u001b[0m\u001b[0;34m:\u001b[0m\u001b[0;34m\u001b[0m\u001b[0;34m\u001b[0m\u001b[0m\n\u001b[1;32m      5\u001b[0m     \u001b[0mfila\u001b[0m\u001b[0;34m=\u001b[0m\u001b[0mint\u001b[0m\u001b[0;34m(\u001b[0m\u001b[0mDiccionariop\u001b[0m\u001b[0;34m[\u001b[0m\u001b[0mn\u001b[0m\u001b[0;34m]\u001b[0m\u001b[0;34m)\u001b[0m\u001b[0;34m\u001b[0m\u001b[0;34m\u001b[0m\u001b[0m\n",
            "\u001b[0;31mNameError\u001b[0m: name 'Diccionariop' is not defined"
          ]
        }
      ]
    }
  ]
}