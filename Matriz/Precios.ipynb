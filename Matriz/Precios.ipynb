{
  "nbformat": 4,
  "nbformat_minor": 0,
  "metadata": {
    "colab": {
      "name": "Untitled4.ipynb",
      "provenance": [],
      "authorship_tag": "ABX9TyPmaVVIuS6x6xIf2dxrqXyo",
      "include_colab_link": true
    },
    "kernelspec": {
      "name": "python3",
      "display_name": "Python 3"
    },
    "language_info": {
      "name": "python"
    }
  },
  "cells": [
    {
      "cell_type": "markdown",
      "metadata": {
        "id": "view-in-github",
        "colab_type": "text"
      },
      "source": [
        "<a href=\"https://colab.research.google.com/github/JuanchoMAtes/Proyecto-Final-PGMN/blob/main/Matriz/Precios.ipynb\" target=\"_parent\"><img src=\"https://colab.research.google.com/assets/colab-badge.svg\" alt=\"Open In Colab\"/></a>"
      ]
    },
    {
      "cell_type": "code",
      "source": [
        "import numpy as np"
      ],
      "metadata": {
        "id": "8CVX1yMovgYw"
      },
      "execution_count": 33,
      "outputs": []
    },
    {
      "cell_type": "code",
      "source": [
        "matriz = np.array([[2500,5000],[2000,3000]])"
      ],
      "metadata": {
        "id": "2wMjuOixvQJJ"
      },
      "execution_count": 32,
      "outputs": []
    },
    {
      "cell_type": "code",
      "source": [
        "Diccionariop={'Papas':0,'Jugo':1}\n",
        "Local={'CyT':0, 'FEM':1}\n",
        "\n",
        "x=input(\"Papas o Jugo\")\n",
        "if x=='Papas':\n",
        "  fila=int(Diccionariop['Papas'])\n",
        "elif x=='Jugo':\n",
        "  fila=int(Diccionariop['Jugo'])\n",
        "print(fila)\n",
        "\n",
        "y=input(\"CyT o FEM\")\n",
        "if y=='CyT':\n",
        "  columna=int(Local['CyT'])\n",
        "elif y=='FEM':\n",
        "  columna=int(Local['FEM'])\n",
        "print(columna)"
      ],
      "metadata": {
        "colab": {
          "base_uri": "https://localhost:8080/"
        },
        "id": "uSEdWAR8rXGg",
        "outputId": "bac98a77-7901-4f2f-ebcd-b9d2b6b200cf"
      },
      "execution_count": 37,
      "outputs": [
        {
          "output_type": "stream",
          "name": "stdout",
          "text": [
            "Papas o JugoJugo\n",
            "1\n",
            "CyT o FEMFEM\n",
            "1\n"
          ]
        }
      ]
    },
    {
      "cell_type": "code",
      "source": [
        "print(matriz[fila][columna])"
      ],
      "metadata": {
        "colab": {
          "base_uri": "https://localhost:8080/"
        },
        "id": "1TzGmktLwUSE",
        "outputId": "5727e48a-1997-4cc1-e6b6-3730f288ff40"
      },
      "execution_count": 43,
      "outputs": [
        {
          "output_type": "stream",
          "name": "stdout",
          "text": [
            "3000\n"
          ]
        }
      ]
    },
    {
      "cell_type": "code",
      "source": [
        "for k in range (0,fila+1):\n",
        "  for i in range(0,columna+1):\n",
        "    print(\"Fila: \",k,\"Columna: \",i, \"=\" ,matriz[i][k])"
      ],
      "metadata": {
        "colab": {
          "base_uri": "https://localhost:8080/"
        },
        "id": "0gkR2542uxtg",
        "outputId": "44b39e64-bac4-4e21-f8e9-695b96b8524f"
      },
      "execution_count": 46,
      "outputs": [
        {
          "output_type": "stream",
          "name": "stdout",
          "text": [
            "Fila:  0 Columna:  0 = 2500\n",
            "Fila:  0 Columna:  1 = 2000\n",
            "Fila:  1 Columna:  0 = 5000\n",
            "Fila:  1 Columna:  1 = 3000\n"
          ]
        }
      ]
    }
  ]
}