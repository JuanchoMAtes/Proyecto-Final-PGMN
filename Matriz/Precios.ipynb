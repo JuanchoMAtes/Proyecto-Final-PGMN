{
  "nbformat": 4,
  "nbformat_minor": 0,
  "metadata": {
    "colab": {
      "name": "Untitled4.ipynb",
      "provenance": [],
      "authorship_tag": "ABX9TyM63hwnjXJ+HDauBqfcbKG7",
      "include_colab_link": true
    },
    "kernelspec": {
      "name": "python3",
      "display_name": "Python 3"
    },
    "language_info": {
      "name": "python"
    }
  },
  "cells": [
    {
      "cell_type": "markdown",
      "metadata": {
        "id": "view-in-github",
        "colab_type": "text"
      },
      "source": [
        "<a href=\"https://colab.research.google.com/github/JuanchoMAtes/Proyecto-Final-PGMN/blob/main/Matriz/Precios.ipynb\" target=\"_parent\"><img src=\"https://colab.research.google.com/assets/colab-badge.svg\" alt=\"Open In Colab\"/></a>"
      ]
    },
    {
      "cell_type": "code",
      "source": [
        "import numpy as np"
      ],
      "metadata": {
        "id": "8CVX1yMovgYw"
      },
      "execution_count": 33,
      "outputs": []
    },
    {
      "cell_type": "code",
      "source": [
        "matriz = np.array([[2500,5000],[2000,3000]])"
      ],
      "metadata": {
        "id": "2wMjuOixvQJJ"
      },
      "execution_count": 32,
      "outputs": []
    },
    {
      "cell_type": "code",
      "source": [
        "Diccionariop={\"Papas\":0,\"Jugo\":1}\n",
        "Local={'CyT':0, 'FEM':1}"
      ],
      "metadata": {
        "id": "75mCRpF6ytFg"
      },
      "execution_count": null,
      "outputs": []
    },
    {
      "cell_type": "code",
      "source": [
        "print(\"Las opciones de comida son:\")\n",
        "for key in Diccionariop:\n",
        "    print(key)\n",
        "\n",
        "print(\"Las opciones de comida puestos son :\")\n",
        "for key in Local:\n",
        "    print(key)"
      ],
      "metadata": {
        "colab": {
          "base_uri": "https://localhost:8080/"
        },
        "id": "15Bi-9MfzQ73",
        "outputId": "3f2a7e51-a853-48db-f0ba-8c5b13e0ca7e"
      },
      "execution_count": 76,
      "outputs": [
        {
          "output_type": "stream",
          "name": "stdout",
          "text": [
            "Las opciones de comida son:\n",
            "Papas\n",
            "Jugo\n",
            "Las opciones de comida puestos son :\n",
            "CyT\n",
            "FEM\n"
          ]
        }
      ]
    },
    {
      "cell_type": "code",
      "source": [
        "x=input(\"Escoge una: \")\n",
        "for key in Diccionariop:\n",
        "  n= key\n",
        "  if x==n:\n",
        "    fila=int(Diccionariop[n])\n",
        "    break\n",
        "print(fila)"
      ],
      "metadata": {
        "colab": {
          "base_uri": "https://localhost:8080/"
        },
        "id": "gvhhyKY_2MmV",
        "outputId": "c3b176bf-6a22-43be-a0e8-1cdca96641e5"
      },
      "execution_count": 84,
      "outputs": [
        {
          "output_type": "stream",
          "name": "stdout",
          "text": [
            "Escoge una: Jugo\n",
            "1\n"
          ]
        }
      ]
    },
    {
      "cell_type": "code",
      "source": [
        "x=input(\"CyT o FEM\")\n",
        "if x=='Papas':\n",
        "  fila=int(Diccionariop['Papas'])\n",
        "elif x=='Jugo':\n",
        "  fila=int(Diccionariop['Jugo'])\n",
        "print(fila)"
      ],
      "metadata": {
        "colab": {
          "base_uri": "https://localhost:8080/"
        },
        "id": "W4a2X9Cp3AoK",
        "outputId": "d1fca74d-ba87-422d-9bc5-bb59de96fc98"
      },
      "execution_count": 81,
      "outputs": [
        {
          "output_type": "stream",
          "name": "stdout",
          "text": [
            "CyT o FEMJugo\n",
            "1\n"
          ]
        }
      ]
    },
    {
      "cell_type": "code",
      "source": [
        "=input(\"Escoge una: \")\n",
        "for key in Local:\n",
        "  if y==Key:\n",
        "    columna=int(Local[key])\n",
        "print(columna)\n",
        "\n",
        "y=input(\"CyT o FEM\")\n",
        "if y=='CyT':\n",
        "  columna=int(Local['CyT'])\n",
        "elif y=='FEM':\n",
        "  columna=int(Local['FEM'])\n",
        "print(columna)"
      ],
      "metadata": {
        "colab": {
          "base_uri": "https://localhost:8080/",
          "height": 252
        },
        "id": "uSEdWAR8rXGg",
        "outputId": "103105b8-0a13-4583-d937-571432cf9672"
      },
      "execution_count": 73,
      "outputs": [
        {
          "name": "stdout",
          "output_type": "stream",
          "text": [
            "Escoge una: Papas\n"
          ]
        },
        {
          "output_type": "error",
          "ename": "NameError",
          "evalue": "ignored",
          "traceback": [
            "\u001b[0;31m---------------------------------------------------------------------------\u001b[0m",
            "\u001b[0;31mNameError\u001b[0m                                 Traceback (most recent call last)",
            "\u001b[0;32m<ipython-input-73-2eb63b1522ad>\u001b[0m in \u001b[0;36m<module>\u001b[0;34m()\u001b[0m\n\u001b[1;32m      1\u001b[0m \u001b[0mx\u001b[0m\u001b[0;34m=\u001b[0m\u001b[0minput\u001b[0m\u001b[0;34m(\u001b[0m\u001b[0;34m\"Escoge una: \"\u001b[0m\u001b[0;34m)\u001b[0m\u001b[0;34m\u001b[0m\u001b[0;34m\u001b[0m\u001b[0m\n\u001b[1;32m      2\u001b[0m \u001b[0;32mfor\u001b[0m \u001b[0mkey\u001b[0m \u001b[0;32min\u001b[0m \u001b[0mDiccionariop\u001b[0m\u001b[0;34m:\u001b[0m\u001b[0;34m\u001b[0m\u001b[0;34m\u001b[0m\u001b[0m\n\u001b[0;32m----> 3\u001b[0;31m   \u001b[0;32mif\u001b[0m \u001b[0mx\u001b[0m\u001b[0;34m==\u001b[0m\u001b[0mKey\u001b[0m\u001b[0;34m:\u001b[0m\u001b[0;34m\u001b[0m\u001b[0;34m\u001b[0m\u001b[0m\n\u001b[0m\u001b[1;32m      4\u001b[0m     \u001b[0mfila\u001b[0m\u001b[0;34m=\u001b[0m\u001b[0mint\u001b[0m\u001b[0;34m(\u001b[0m\u001b[0mDiccionariop\u001b[0m\u001b[0;34m[\u001b[0m\u001b[0mkey\u001b[0m\u001b[0;34m]\u001b[0m\u001b[0;34m)\u001b[0m\u001b[0;34m\u001b[0m\u001b[0;34m\u001b[0m\u001b[0m\n\u001b[1;32m      5\u001b[0m \u001b[0mprint\u001b[0m\u001b[0;34m(\u001b[0m\u001b[0mfila\u001b[0m\u001b[0;34m)\u001b[0m\u001b[0;34m\u001b[0m\u001b[0;34m\u001b[0m\u001b[0m\n",
            "\u001b[0;31mNameError\u001b[0m: name 'Key' is not defined"
          ]
        }
      ]
    },
    {
      "cell_type": "code",
      "source": [
        "for k in range (0,fila+1):\n",
        "  for i in range(0,columna+1):\n",
        "    print(\"Fila: \",k,\"Columna: \",i, \"=\" ,matriz[i][k])"
      ],
      "metadata": {
        "colab": {
          "base_uri": "https://localhost:8080/"
        },
        "id": "0gkR2542uxtg",
        "outputId": "44b39e64-bac4-4e21-f8e9-695b96b8524f"
      },
      "execution_count": 46,
      "outputs": [
        {
          "output_type": "stream",
          "name": "stdout",
          "text": [
            "Fila:  0 Columna:  0 = 2500\n",
            "Fila:  0 Columna:  1 = 2000\n",
            "Fila:  1 Columna:  0 = 5000\n",
            "Fila:  1 Columna:  1 = 3000\n"
          ]
        }
      ]
    }
  ]
}