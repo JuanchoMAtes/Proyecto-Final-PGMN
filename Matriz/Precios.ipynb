{
  "nbformat": 4,
  "nbformat_minor": 0,
  "metadata": {
    "colab": {
      "name": "Untitled4.ipynb",
      "provenance": [],
      "authorship_tag": "ABX9TyPpd9KXGMUrkkaXf/P6uNjl",
      "include_colab_link": true
    },
    "kernelspec": {
      "name": "python3",
      "display_name": "Python 3"
    },
    "language_info": {
      "name": "python"
    }
  },
  "cells": [
    {
      "cell_type": "markdown",
      "metadata": {
        "id": "view-in-github",
        "colab_type": "text"
      },
      "source": [
        "<a href=\"https://colab.research.google.com/github/JuanchoMAtes/Proyecto-Final-PGMN/blob/main/Matriz/Precios.ipynb\" target=\"_parent\"><img src=\"https://colab.research.google.com/assets/colab-badge.svg\" alt=\"Open In Colab\"/></a>"
      ]
    },
    {
      "cell_type": "code",
      "source": [
        "import numpy as np"
      ],
      "metadata": {
        "id": "8CVX1yMovgYw"
      },
      "execution_count": 13,
      "outputs": []
    },
    {
      "cell_type": "code",
      "source": [
        "matriz = np.array([[2500,5000],[2000,3000]])"
      ],
      "metadata": {
        "id": "2wMjuOixvQJJ"
      },
      "execution_count": 14,
      "outputs": []
    },
    {
      "cell_type": "code",
      "source": [
        "Diccionariop={\"Papas\":0,\"Jugo\":1}\n",
        "Local={'CyT':0, 'FEM':1}"
      ],
      "metadata": {
        "id": "75mCRpF6ytFg"
      },
      "execution_count": 19,
      "outputs": []
    },
    {
      "cell_type": "code",
      "source": [
        "print(\"Las opciones de comida son:\")\n",
        "for key in Diccionariop:\n",
        "    print(key)\n",
        "\n",
        "print(\"Las opciones puestos de comida son :\")\n",
        "for key in Local:\n",
        "    print(key)"
      ],
      "metadata": {
        "colab": {
          "base_uri": "https://localhost:8080/"
        },
        "id": "15Bi-9MfzQ73",
        "outputId": "4efc77aa-d7b7-43e1-b534-05a21df3d99b"
      },
      "execution_count": 15,
      "outputs": [
        {
          "output_type": "stream",
          "name": "stdout",
          "text": [
            "Las opciones de comida son:\n",
            "Papas\n",
            "Jugo\n",
            "Las opciones puestos de comida son :\n",
            "CyT\n",
            "FEM\n"
          ]
        }
      ]
    },
    {
      "cell_type": "code",
      "source": [
        "x=input(\"Papas o Jugo\")\n",
        "if x=='Papas':\n",
        "  fila=int(Diccionariop['Papas'])\n",
        "elif x=='Jugo':\n",
        "  fila=int(Diccionariop['Jugo'])\n",
        "print(fila)\n",
        "\n",
        "y=input(\"CyT o FEM\")\n",
        "if x=='CyT':\n",
        "  columna=int(Local['CyT'])\n",
        "elif x=='FEM':\n",
        "  columna=int(Local['FEM'])\n",
        "print(columna)"
      ],
      "metadata": {
        "colab": {
          "base_uri": "https://localhost:8080/"
        },
        "id": "W4a2X9Cp3AoK",
        "outputId": "47209fa0-4db4-422b-aa81-4e8f53c10c9a"
      },
      "execution_count": 20,
      "outputs": [
        {
          "output_type": "stream",
          "name": "stdout",
          "text": [
            "Papas o JugoJugo\n",
            "1\n",
            "CyT o FEMFEM\n",
            "1\n"
          ]
        }
      ]
    },
    {
      "cell_type": "code",
      "source": [
        "x=input(\"Escoge una comida: \")\n",
        "for key in Local:\n",
        "  if x== str(key):\n",
        "    fila=int(Diccionariop[key])\n",
        "print(fila)\n",
        "\n",
        "y=input(\"Escoge una: \")\n",
        "for key in Local:\n",
        "  if y== str(key):\n",
        "    columna=int(Local[key])\n",
        "print(columna)\n",
        "\n"
      ],
      "metadata": {
        "colab": {
          "base_uri": "https://localhost:8080/"
        },
        "id": "uSEdWAR8rXGg",
        "outputId": "05d00bb1-09d0-4c68-973b-91f470184645"
      },
      "execution_count": 27,
      "outputs": [
        {
          "output_type": "stream",
          "name": "stdout",
          "text": [
            "Escoge una comida: Jugo\n",
            "1\n",
            "Escoge una: FEM\n",
            "1\n"
          ]
        }
      ]
    },
    {
      "cell_type": "code",
      "source": [
        "print(matriz[fila][columna])"
      ],
      "metadata": {
        "colab": {
          "base_uri": "https://localhost:8080/"
        },
        "id": "FYoP1pekcURF",
        "outputId": "c7fb5b48-ba0a-403e-bffd-7d818e9a6a79"
      },
      "execution_count": 28,
      "outputs": [
        {
          "output_type": "stream",
          "name": "stdout",
          "text": [
            "3000\n"
          ]
        }
      ]
    },
    {
      "cell_type": "code",
      "source": [
        "for k in range (0,fila+1):\n",
        "  for i in range(0,columna+1):\n",
        "    print(\"Fila: \",k,\"Columna: \",i, \"=\" ,matriz[i][k])"
      ],
      "metadata": {
        "colab": {
          "base_uri": "https://localhost:8080/"
        },
        "id": "0gkR2542uxtg",
        "outputId": "cd14df37-69aa-45c9-f628-9bfdbf109084"
      },
      "execution_count": 29,
      "outputs": [
        {
          "output_type": "stream",
          "name": "stdout",
          "text": [
            "Fila:  0 Columna:  0 = 2500\n",
            "Fila:  0 Columna:  1 = 2000\n",
            "Fila:  1 Columna:  0 = 5000\n",
            "Fila:  1 Columna:  1 = 3000\n"
          ]
        }
      ]
    }
  ]
}