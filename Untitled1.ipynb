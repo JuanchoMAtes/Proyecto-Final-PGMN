{
  "nbformat": 4,
  "nbformat_minor": 0,
  "metadata": {
    "colab": {
      "name": "Untitled1.ipynb",
      "provenance": [],
      "authorship_tag": "ABX9TyM7jaCKsFIp2G4L/Aw5UBCs",
      "include_colab_link": true
    },
    "kernelspec": {
      "name": "python3",
      "display_name": "Python 3"
    },
    "language_info": {
      "name": "python"
    }
  },
  "cells": [
    {
      "cell_type": "markdown",
      "metadata": {
        "id": "view-in-github",
        "colab_type": "text"
      },
      "source": [
        "<a href=\"https://colab.research.google.com/github/JuanchoMAtes/Prueba/blob/main/Untitled1.ipynb\" target=\"_parent\"><img src=\"https://colab.research.google.com/assets/colab-badge.svg\" alt=\"Open In Colab\"/></a>"
      ]
    },
    {
      "cell_type": "code",
      "execution_count": null,
      "metadata": {
        "id": "gNgbLx5BtyL-"
      },
      "outputs": [],
      "source": [
        "x=str(2**1000)\n",
        "c=len(x)\n",
        "contador=0\n",
        "n=list(2**1000)\n",
        "while contador<c:\n",
        "  m=n[]"
      ]
    }
  ]
}